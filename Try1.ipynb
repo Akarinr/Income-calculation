{
 "cells": [
  {
   "cell_type": "code",
   "execution_count": 36,
   "id": "62deab70",
   "metadata": {},
   "outputs": [],
   "source": [
    "gross_in = 0\n",
    "net_in = 0\n"
   ]
  },
  {
   "cell_type": "code",
   "execution_count": 37,
   "id": "7e2ee5f7",
   "metadata": {},
   "outputs": [
    {
     "name": "stdout",
     "output_type": "stream",
     "text": [
      "9124.383904166667\n"
     ]
    }
   ],
   "source": [
    "#ROU only, Gross to net\n",
    "Basic_r = ((50270 - 12571) * 0.2)\n",
    "Higher_r = ((150000 - 50271) * 0.4)\n",
    "NI_lower = ((50270 - 11905) * 0.1325)\n",
    "if gross_in <= 12570:\n",
    "    if gross_in <= 11904:\n",
    "        net_in = gross_in # No tax at all\n",
    "    else:\n",
    "        net_in = gross_in - ((gross_in - 11904) * 0.1325) # Only insurance\n",
    "elif 12571 <= gross_in <= 50270:\n",
    "    net_in = gross_in - (((gross_in - 12570) * 0.2) + ((gross_in - 11905) * 0.1325))\n",
    "elif 50271 <= gross_in <= 150000:\n",
    "    net_in = gross_in - Basic_r - NI_lower - (((gross_in - 50271) * 0.4) + ((gross_in - 50271) * 0.0325))\n",
    "elif gross_in > 150000:\n",
    "    net_in = gross_in - Basic_r - Higher_r - NI_lower - (((gross_in - 150000) * 0.45) + ((gross_in - 50271) * 0.0325))\n",
    "print(net_in/12)\n",
    "\n"
   ]
  },
  {
   "cell_type": "code",
   "execution_count": null,
   "id": "63c252d5",
   "metadata": {},
   "outputs": [],
   "source": [
    "#ROU, net to gross\n",
    "def net_to_gross_rou(y):\n",
    "    if PE1 <= y <= PE2:\n",
    "        x = y\n",
    "        return x\n",
    "    elif PE2 < y <= PE3:\n",
    "        x = (y-PE2) / (1-TD2) + GL2\n",
    "        return x\n",
    "    elif PE3 < y <= PE4:\n",
    "        x = (y-PE3) / (1-TD3) + GL3\n",
    "        return x\n",
    "    elif PE4 < y <= PE5:\n",
    "        x = (y-PE4) / (1-TD4) + GL4\n",
    "        return x\n",
    "    elif PE5 < y:\n",
    "        x = (y-PE5) / (1-TD5) + GL5\n",
    "        return x\n"
   ]
  }
 ],
 "metadata": {
  "kernelspec": {
   "display_name": "Python 3 (ipykernel)",
   "language": "python",
   "name": "python3"
  },
  "language_info": {
   "codemirror_mode": {
    "name": "ipython",
    "version": 3
   },
   "file_extension": ".py",
   "mimetype": "text/x-python",
   "name": "python",
   "nbconvert_exporter": "python",
   "pygments_lexer": "ipython3",
   "version": "3.9.12"
  }
 },
 "nbformat": 4,
 "nbformat_minor": 5
}
